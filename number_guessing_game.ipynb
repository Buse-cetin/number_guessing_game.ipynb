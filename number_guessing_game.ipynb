{
  "nbformat": 4,
  "nbformat_minor": 0,
  "metadata": {
    "colab": {
      "provenance": [],
      "authorship_tag": "ABX9TyN2uQISX0YUfQ3Xi921FyVQ",
      "include_colab_link": true
    },
    "kernelspec": {
      "name": "python3",
      "display_name": "Python 3"
    },
    "language_info": {
      "name": "python"
    }
  },
  "cells": [
    {
      "cell_type": "markdown",
      "metadata": {
        "id": "view-in-github",
        "colab_type": "text"
      },
      "source": [
        "<a href=\"https://colab.research.google.com/github/Buse-cetin/number_guessing_game.ipynb/blob/main/number_guessing_game.ipynb\" target=\"_parent\"><img src=\"https://colab.research.google.com/assets/colab-badge.svg\" alt=\"Open In Colab\"/></a>"
      ]
    },
    {
      "cell_type": "markdown",
      "source": [
        "\n",
        "The computer keeps a number from 1-25 and the user tries to find this number. We are informed of how many guesses we have found the correct number."
      ],
      "metadata": {
        "id": "PKTaBMtmFGdK"
      }
    },
    {
      "cell_type": "code",
      "source": [
        "import random\n",
        "number = random.randint(1,25)\n",
        "count = 0\n",
        "user_data = 0\n",
        "\n",
        "while(True):\n",
        "  user_data = input(\"Enter Your Estimate :\")\n",
        "  count +=1\n",
        "  if(user_data ==\"exit\"):\n",
        "    print(\"You Exited the Game\")\n",
        "    break\n",
        "\n",
        "  user_data = int(user_data)\n",
        "  if(user_data > number):\n",
        "    print(\"Guess a Smaller Number!\")\n",
        "\n",
        "  elif(user_data < number):\n",
        "    print(\"Guess a Bigger Number!\")\n",
        "\n",
        "  else:\n",
        "    print(\"Correct Guess, Congratulations!\")\n",
        "    print(str(count),\". You got the correct guess.\")\n",
        "    break\n"
      ],
      "metadata": {
        "id": "239zEuEUFWoT",
        "colab": {
          "base_uri": "https://localhost:8080/"
        },
        "outputId": "e1eeb3fc-9611-439d-dde6-0748ca647b62"
      },
      "execution_count": 2,
      "outputs": [
        {
          "output_type": "stream",
          "name": "stdout",
          "text": [
            "Enter Your Estimate :4\n",
            "Guess a Bigger Number!\n",
            "Enter Your Estimate :15\n",
            "Guess a Smaller Number!\n",
            "Enter Your Estimate :12\n",
            "Guess a Smaller Number!\n",
            "Enter Your Estimate :9\n",
            "Guess a Bigger Number!\n",
            "Enter Your Estimate :10\n",
            "Guess a Bigger Number!\n",
            "Enter Your Estimate :11\n",
            "Correct Guess, Congratulations!\n",
            "6 . You got the correct guess.\n"
          ]
        }
      ]
    }
  ]
}